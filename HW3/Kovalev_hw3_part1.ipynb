{
 "cells": [
  {
   "cell_type": "markdown",
   "metadata": {},
   "source": [
    "# Home Assignment No. 3: Part 1 "
   ]
  },
  {
   "cell_type": "markdown",
   "metadata": {},
   "source": [
    "In this part of the homework you are to solve several problems related to machine learning algorithms.\n",
    "* For every separate problem you can get only 0 points or maximal points for this problem. There are **NO INTERMEDIATE scores**.\n",
    "* Your solution must me **COMPLETE**, i.e. contain all required formulas/proofs/detailed explanations.\n",
    "* You must write your solution for any problem just right after the words **BEGIN SOLUTION**. Attaching pictures of your handwriting is allowed, but **highly discouraged**.\n",
    "* If you want an easy life, you have to use **BUILT-IN METHODS** of `sklearn` library instead of writing tons of our yown code. There exists a class/method for almost everything you can imagine (related to this homework).\n",
    "* To do some tasks in this part of homework, you have to write **CODE** directly inside specified places inside notebook **CELLS**.\n",
    "* In some problems you may be asked to provide short discussion of the results. In this cases you have to create **MARKDOWN** cell with your comments right after the your code cell.\n",
    "* Your **SOLUTION** notebook **MUST BE REPRODUCIBLE**, i.e. if the reviewer decides to execute `Kernel` -> `Restart Kernel and Run All Cells`, after all the computation he will obtain exactly the same solution (with all the corresponding plots) as in your uploaded notebook. For this purpose, we suggest to fix random `seed` or (better) define `random_state=` inside every algorithm that uses some pseudorandomness.\n",
    "\n",
    "* Your code must be clear to the reviewer. For this purpose, try to include neccessary comments inside the code. But remember: **GOOD CODE MUST BE SELF-EXPLANATORY** without any additional comments.\n",
    "* The are problems with \\* mark - they are not obligatory. You can get **EXTRA POINTS** for solving them.\n",
    "## $\\LaTeX$ in Jupyter\n",
    "Jupyter has constantly improving $\\LaTeX$ support. Below are the basic methods to\n",
    "write **neat, tidy, and well typeset** equations in your notebooks:\n",
    "* to write an **inline** equation use \n",
    "```markdown\n",
    "$ you latex equation here $\n",
    "```\n",
    "* to write an equation, that is **displayed on a separate line** use \n",
    "```markdown\n",
    "$$ you latex equation here $$\n",
    "```\n",
    "* to write a **block of equations** use \n",
    "```markdown\n",
    "\\begin{align}\n",
    "    left-hand-side\n",
    "        &= right-hand-side on line 1\n",
    "        \\\\\n",
    "        &= right-hand-side on line 2\n",
    "        \\\\\n",
    "        &= right-hand-side on the last line\n",
    "\\end{align}\n",
    "```\n",
    "The **ampersand** (`&`) aligns the equations horizontally and the **double backslash**\n",
    "(`\\\\`) creates a new line."
   ]
  },
  {
   "cell_type": "markdown",
   "metadata": {},
   "source": [
    "Write your theoretical derivations within such blocks:\n",
    "```markdown\n",
    "**BEGIN Solution**\n",
    "\n",
    "<!-- >>> your derivation here <<< -->\n",
    "\n",
    "**END Solution**\n",
    "```"
   ]
  },
  {
   "cell_type": "markdown",
   "metadata": {},
   "source": [
    "Please, write your implementation within the designated blocks:\n",
    "```python\n",
    "...\n",
    "### BEGIN Solution\n",
    "\n",
    "# >>> your solution here <<<\n",
    "\n",
    "### END Solution\n",
    "...\n",
    "```\n"
   ]
  },
  {
   "cell_type": "markdown",
   "metadata": {},
   "source": [
    "<br>"
   ]
  },
  {
   "cell_type": "code",
   "execution_count": 1,
   "metadata": {
    "collapsed": true
   },
   "outputs": [],
   "source": [
    "import numpy as np\n",
    "import pandas as pd\n",
    "\n",
    "import torch\n",
    "\n",
    "%matplotlib inline\n",
    "import matplotlib.pyplot as plt\n",
    "\n",
    "plt.rcParams['figure.figsize'] = [14, 4]"
   ]
  },
  {
   "cell_type": "markdown",
   "metadata": {},
   "source": [
    "<br>"
   ]
  },
  {
   "cell_type": "markdown",
   "metadata": {},
   "source": [
    "# Bayesian Models. GLM"
   ]
  },
  {
   "cell_type": "markdown",
   "metadata": {},
   "source": [
    "## Task 1 (1 pt.)\n",
    "\n",
    "Consider a univariate Gaussian distribution $\\mathcal{N}(x; \\mu, \\tau^{-1})$.\n",
    "Let's define Gaussian-Gamma prior for parameters $(\\mu, \\tau)$:\n",
    "\n",
    "\\begin{equation}\n",
    "    p(\\mu, \\tau)\n",
    "        = \\mathcal{N}(\\mu; \\mu_0, (\\beta \\tau)^{-1})\n",
    "            \\otimes \\text{Gamma}(\\tau; a, b)\n",
    "        \\,.\n",
    "\\end{equation}\n",
    "\n",
    "Find the posterior distribution of $(\\mu, \\tau)$ after observing $X = (x_1, \\dots, x_n)$."
   ]
  },
  {
   "cell_type": "markdown",
   "metadata": {},
   "source": [
    "**BEGIN Solution**\n",
    "\n",
    "Notice that:\n",
    "$$\n",
    "p(\\mu, \\tau) \\propto \\tau^{\\frac{1}{2}}e^{-\\frac{(\\mu - \\mu_0)^2}{2}\\beta\\tau}\\cdot \\tau^{a - 1}e^{-b\\tau} \\propto \\tau^{a - \\frac{1}{2}}e^{-\\frac{\\tau}{2}\\beta(\\mu - \\mu_0)^2 - b\\tau}\\qquad(*)\n",
    "$$\n",
    "\n",
    "$$\n",
    "p(X | \\mu, \\tau) \\propto \\prod\\limits_{i=1}^n\\tau^{\\frac{1}{2}}e^{-\\frac{(x_i - \\mu)^2}{2}\\tau} \\propto \\tau^{\\frac{n}{2}}e^{-\\frac{\\tau}{2}\\sum\\limits_{i=1}^n(x_i - \\mu)^2}\n",
    "$$\n",
    "\n",
    "Using Bayes' theorem, we obtain:\n",
    "\n",
    "\\begin{eqnarray}\n",
    "p(\\mu, \\tau | X) \\propto\\\\\n",
    "&&\\propto p(\\mu, \\tau)p(X | \\mu, \\tau) \\propto\\\\\n",
    "&&\\propto \\tau^{a - \\frac{1}{2}}e^{-\\frac{\\tau}{2}\\beta(\\mu - \\mu_0)^2 - b\\tau}\\tau^{\\frac{n}{2}}e^{-\\frac{\\tau}{2}\\sum\\limits_{i=1}^n(x_i - \\mu)^2}\\propto\\\\\n",
    "&&\\propto \\tau^{a + \\frac{n}{2} - \\frac{1}{2}}e^{-\\frac{\\tau}{2}\\left(\\beta(\\mu - \\mu_0)^2 + \\sum\\limits_{i=1}^n(x_i - \\mu)^2\\right) - b\\tau}\n",
    "\\end{eqnarray}\n",
    "\n",
    "Now let's rewrite $\\beta(\\mu - \\mu_0)^2 + \\sum\\limits_{i=1}^n(x_i - \\mu)^2$, using sample mean $\\bar{X}_n = \\frac{\\sum\\limits_{i=1}^nx_i}{n}$ and sample variance $S_n^2 = \\frac{\\sum\\limits_{i=1}^nx_i^2}{n} - \\bar{X}_n^2$:\n",
    "\n",
    "\\begin{eqnarray}\n",
    "\\beta(\\mu - \\mu_0)^2 + \\sum\\limits_{i=1}^n(x_i - \\mu)^2 =\\\\\n",
    "&&= \\beta(\\mu - \\mu_0)^2 + n\\mu^2 - 2\\mu\\sum\\limits_{i=1}^nx_i + \\sum\\limits_{i=1}^nx_i^2 =\\\\\n",
    "&&= n\\left(\\frac{\\beta}{n}(\\mu - \\mu_0)^2 + \\mu^2 - 2\\mu\\frac{\\sum\\limits_{i=1}^nx_i}{n} + \\frac{\\sum\\limits_{i=1}^nx_i^2}{n}\\right) =\\\\\n",
    "&&= n\\left(\\frac{\\beta}{n}(\\mu - \\mu_0)^2 + \\mu^2 - 2\\mu \\bar{X}_n + \\frac{\\sum\\limits_{i=1}^nx_i^2}{n} - \\bar{X}_n^2 + \\bar{X}_n^2\\right) =\\\\\n",
    "&&= n\\left(\\frac{\\beta}{n}(\\mu - \\mu_0)^2 + \\mu^2 - 2\\mu \\bar{X}_n + S_n^2 + \\bar{X}_n^2\\right) =\\\\\n",
    "&&= (\\beta + n)\\mu^2 - 2(\\beta\\mu_0 + n\\bar{X}_n)\\mu + \\beta\\mu_0^2 + n(S_n^2 + \\bar{X}_n^2) =\\\\\n",
    "&&= (\\beta + n)\\left(\\mu^2 - 2\\frac{\\beta\\mu_0 + n\\bar{X}_n}{\\beta + n}\\mu + \\frac{\\beta\\mu_0^2 + n(S_n^2 + \\bar{X}_n^2)}{\\beta + n}\\right) =\\\\\n",
    "&&= (\\beta + n)\\left(\\mu^2 - 2\\frac{\\beta\\mu_0 + n\\bar{X}_n}{\\beta + n}\\mu + \\left(\\frac{\\beta\\mu_0 + n\\bar{X}_n}{\\beta + n}\\right)^2 - \\left(\\frac{\\beta\\mu_0 + n\\bar{X}_n}{\\beta + n}\\right)^2 + \\frac{\\beta\\mu_0^2 + n(S_n^2 + \\bar{X}_n^2)}{\\beta + n}\\right) =\\\\\n",
    "&&= (\\beta + n)\\left(\\left(\\mu - \\frac{\\beta\\mu_0 + n\\bar{X}_n}{\\beta + n}\\right)^2 - \\left(\\frac{\\beta\\mu_0 + n\\bar{X}_n}{\\beta + n}\\right)^2 + \\frac{\\beta\\mu_0^2 + n(S_n^2 + \\bar{X}_n^2)}{\\beta + n}\\right) =\\\\\n",
    "&&= (\\beta + n)\\left(\\mu - \\frac{\\beta\\mu_0 + n\\bar{X}_n}{\\beta + n}\\right)^2 - \\frac{(\\beta\\mu_0 + n\\bar{X}_n)^2}{\\beta + n} + \\beta\\mu_0^2 + n(S_n^2 + \\bar{X}_n^2) =\\\\\n",
    "&&= (\\beta + n)\\left(\\mu - \\frac{\\beta\\mu_0 + n\\bar{X}_n}{\\beta + n}\\right)^2 + \\frac{-\\beta^2\\mu_0^2 -2n\\beta\\mu_0\\bar{X}_n - n^2\\bar{X}_n^2 + \\beta^2\\mu_0^2 + n\\beta\\mu_0^2 + n\\beta S_n^2 + n\\beta\\bar{X}_n^2 + n^2S_n^2 + n^2\\bar{X}_n^2}{\\beta + n} =\\\\\n",
    "&&= (\\beta + n)\\left(\\mu - \\frac{\\beta\\mu_0 + n\\bar{X}_n}{\\beta + n}\\right)^2 + \\frac{n}{\\beta + n}\\left(S_n^2(\\beta + n) + \\beta\\mu_0^2 + \\beta \\bar{X}_n^2 - 2\\beta\\mu_0\\bar{X}_n\\right) =\\\\\n",
    "&&= (\\beta + n)\\left(\\mu - \\frac{\\beta\\mu_0 + n\\bar{X}_n}{\\beta + n}\\right)^2 + \\frac{\\beta n}{\\beta + n}\\left(\\mu_0^2 + \\bar{X}_n^2 - 2\\mu_0\\bar{X}_n\\right) + nS_n^2 =\\\\\n",
    "&&= (\\beta + n)\\left(\\mu - \\frac{\\beta\\mu_0 + n\\bar{X}_n}{\\beta + n}\\right)^2 + \\frac{\\beta n}{\\beta + n}\\left(\\bar{X}_n - \\mu_0\\right)^2 + nS_n^2\n",
    "\\end{eqnarray}\n",
    "\n",
    "Substituting this to the expression for $p(\\mu, \\tau | X)$, we get:\n",
    "\n",
    "\\begin{eqnarray}\n",
    "p(\\mu, \\tau | X) \\propto\\\\\n",
    "&&\\propto \\tau^{a + \\frac{n}{2} - \\frac{1}{2}}e^{-\\frac{\\tau}{2}\\left(\\beta(\\mu - \\mu_0)^2 + \\sum\\limits_{i=1}^n(x_i - \\mu)^2\\right) - b\\tau} \\propto\\\\\n",
    "&&\\propto \\tau^{a + \\frac{n}{2} - \\frac{1}{2}}e^{-\\frac{\\tau}{2}(\\beta + n)\\left(\\mu - \\frac{\\beta\\mu_0 + n\\bar{X}_n}{\\beta + n}\\right)^2 - \\frac{\\tau}{2}\\left(\\frac{\\beta n}{\\beta + n}\\left(\\bar{X}_n - \\mu_0\\right)^2 + nS_n^2\\right) - b\\tau} \\propto\\\\\n",
    "&&\\propto \\tau^{a + \\frac{n}{2} - \\frac{1}{2}}e^{-\\frac{\\tau}{2}(\\beta + n)\\left(\\mu - \\frac{\\beta\\mu_0 + n\\bar{X}_n}{\\beta + n}\\right)^2 - \\left(\\frac{\\beta n}{2(\\beta + n)}\\left(\\bar{X}_n - \\mu_0\\right)^2 + \\frac{n}{2}S_n^2 + b\\right)\\tau} \\propto\\\\\n",
    "&&\\propto \\tau^{a' - \\frac{1}{2}}e^{-\\frac{\\tau}{2}\\beta'\\left(\\mu - \\mu_0'\\right)^2 - b'\\tau},\n",
    "\\end{eqnarray}\n",
    "\n",
    "Notice that this is a Normal-Gamma distribution, just as in $(*)$. So, the answer:\n",
    "\n",
    "$$\n",
    "p(\\mu, \\tau | X) = \\mathcal{N}(\\mu; \\mu_0', (\\beta' \\tau)^{-1})\\otimes \\text{Gamma}(\\tau; a', b'),\n",
    "$$\n",
    "\n",
    "where\n",
    "\n",
    "\\begin{cases}\n",
    "\\mu_0' &= \\frac{\\beta\\mu_0 + n\\bar{X}_n}{\\beta + n}\\\\\n",
    "\\beta' &= \\beta + n\\\\\n",
    "a' &= a + \\frac{n}{2}\\\\\n",
    "b' &= \\frac{\\beta n}{2(\\beta + n)}\\left(\\bar{X}_n - \\mu_0\\right)^2 + \\frac{n}{2}S_n^2 + b\n",
    "\\end{cases}\n",
    "\n",
    "**END Solution**"
   ]
  },
  {
   "cell_type": "markdown",
   "metadata": {},
   "source": [
    "<br>"
   ]
  },
  {
   "cell_type": "markdown",
   "metadata": {},
   "source": [
    "## Task 2 (1 + 1 + 1 = 3 pt.)\n",
    "\n",
    "Evaluate the following integral using the Laplace approximation:\n",
    "\\begin{equation}\n",
    "    x \\mapsto \\int \\sigma(w^T x) \\mathcal{N}(w; 0, \\Sigma) dw \\,,\n",
    "\\end{equation}\n",
    "for $x = \\bigl(\\tfrac23, \\tfrac16, \\tfrac16\\bigr)\\in \\mathbb{R}^3$ and \n",
    "\\begin{equation}\n",
    "    \\Sigma\n",
    "        = \\begin{pmatrix}\n",
    "             1    & -0.25 & 0.75 \\\\\n",
    "            -0.25 &  1    & 0.5  \\\\\n",
    "             0.75 &  0.5  & 2\n",
    "           \\end{pmatrix}\n",
    "        \\,.\n",
    "\\end{equation}"
   ]
  },
  {
   "cell_type": "markdown",
   "metadata": {},
   "source": [
    "Laplace approximation with $x \\in \\mathbb{R}^3$:\n",
    "\n",
    "\\begin{eqnarray}\n",
    "\\int\\sigma\\left(w^Tx\\right)\\mathcal{N}\\left(w; 0, \\Sigma\\right)dw =\\\\\n",
    "&&= \\int\\frac{1}{1 + e^{-w^Tx}}\\cdot \\frac{1}{\\left(2\\pi\\right)^{\\frac{3}{2}}}\\cdot\\frac{1}{\\det\\left(\\Sigma\\right)^{\\frac{1}{2}}}e^{-\\frac{1}{2}w^T\\Sigma^{-1}w}dw =\\\\\n",
    "&&= \\frac{1}{\\sqrt{8\\pi^3\\det\\Sigma}}\\int\\frac{e^{-\\frac{1}{2}w^T\\Sigma^{-1}w}}{1 + e^{-w^Tx}}dw \\approx\\\\\n",
    "&&\\approx \\frac{\\sqrt{\\frac{8}{\\det\\Sigma}}e^{-\\frac{1}{2}w^{*T}\\Sigma^{-1}w^*}}{1 + e^{-w^{*T}x}}\\det\\left(\\nabla^2\\left(w^T\\Sigma^{-1}w\\right)\\Bigl|_{w = w^*}\\right)^{-\\frac{1}{2}}\n",
    "\\end{eqnarray}"
   ]
  },
  {
   "cell_type": "markdown",
   "metadata": {},
   "source": [
    "### Task 2.1 (1 pt.)\n",
    "Use the Hessian matrix computed numericaly via finite differences. (Check out [Numdifftools](https://pypi.python.org/pypi/Numdifftools))"
   ]
  },
  {
   "cell_type": "code",
   "execution_count": 2,
   "metadata": {
    "collapsed": true
   },
   "outputs": [],
   "source": [
    "import numdifftools as nd\n",
    "from scipy.optimize import minimize\n",
    "import numpy as np\n",
    "\n",
    "%matplotlib inline\n",
    "import matplotlib.pyplot as plt"
   ]
  },
  {
   "cell_type": "code",
   "execution_count": 3,
   "metadata": {},
   "outputs": [
    {
     "name": "stdout",
     "output_type": "stream",
     "text": [
      "The value of integral:  0.49999998251986827\n"
     ]
    }
   ],
   "source": [
    "### BEGIN Solution\n",
    "def sigmoid(z):\n",
    "    return 1 / (1 + np.exp(-z))\n",
    "\n",
    "def g(w):\n",
    "    return w @ sigma_inv @ w\n",
    "\n",
    "x = np.array([2/3, 1/6, 1/6])\n",
    "sigma = np.array([[1, -0.25, 0.75], [-0.25, 1, 0.5], [0.75, 0.5, 2]])\n",
    "sigma_inv = np.linalg.inv(sigma)\n",
    "\n",
    "w_opt = minimize(g, np.ones(3)).x\n",
    "int_nd = np.sqrt(8 / (np.linalg.det(sigma) * np.linalg.det(nd.Hessian(g)(w_opt)))) * np.exp(-g(w_opt) / 2) * sigmoid(w_opt @ x)\n",
    "print('The value of integral: ', int_nd)\n",
    "### END Solution"
   ]
  },
  {
   "cell_type": "markdown",
   "metadata": {},
   "source": [
    "<br>"
   ]
  },
  {
   "cell_type": "markdown",
   "metadata": {},
   "source": [
    "### Task 2.2 (1 pt.)\n",
    "Use the diagonal approximation of the Hessian computed by autodifferentiation\n",
    "in **pytorch**."
   ]
  },
  {
   "cell_type": "code",
   "execution_count": 4,
   "metadata": {
    "collapsed": true
   },
   "outputs": [],
   "source": [
    "import torch\n",
    "from torch.autograd import Variable, grad"
   ]
  },
  {
   "cell_type": "code",
   "execution_count": 5,
   "metadata": {},
   "outputs": [
    {
     "name": "stdout",
     "output_type": "stream",
     "text": [
      "The value of integral:  0.2848849146851154\n"
     ]
    }
   ],
   "source": [
    "### BEGIN Solution\n",
    "w_opt_tensor = Variable(torch.tensor(w_opt), requires_grad=True)\n",
    "g_opt = w_opt_tensor.view(-1) @ torch.tensor(sigma_inv) @ w_opt_tensor\n",
    "grad_w, = grad(g_opt, w_opt_tensor, create_graph=True)\n",
    "\n",
    "hess_w0 = grad(grad_w[0], w_opt_tensor, create_graph=True)[0].numpy()[0]\n",
    "hess_w1 = grad(grad_w[1], w_opt_tensor, create_graph=True)[0].numpy()[1]\n",
    "hess_w2 = grad(grad_w[2], w_opt_tensor, create_graph=True)[0].numpy()[2]\n",
    "hess_w = np.diag([hess_w0, hess_w1, hess_w2])\n",
    "\n",
    "int_diag = np.sqrt(8 / (np.linalg.det(sigma) * np.linalg.det(hess_w))) * np.exp(-g(w_opt) / 2) * sigmoid(w_opt @ x)\n",
    "print('The value of integral: ', int_diag)\n",
    "### END Solution"
   ]
  },
  {
   "cell_type": "markdown",
   "metadata": {},
   "source": [
    "<br>"
   ]
  },
  {
   "cell_type": "markdown",
   "metadata": {},
   "source": [
    "### Task 2.3 (1 pt.)\n",
    "\n",
    "Compare the results comparing the `absolute errors` of the results (this is possible with Monte-Carlo estimate of the integral). Write 1-2 sentences in the results discussion."
   ]
  },
  {
   "cell_type": "code",
   "execution_count": 22,
   "metadata": {},
   "outputs": [
    {
     "data": {
      "text/plain": [
       "0.5008578268683043"
      ]
     },
     "execution_count": 22,
     "metadata": {},
     "output_type": "execute_result"
    }
   ],
   "source": [
    "np.random.seed(5)\n",
    "\n",
    "npoints = 10000000\n",
    "\n",
    "low = -100\n",
    "high = 100\n",
    "\n",
    "def f(w):\n",
    "    return sigmoid(w @ x) * np.exp(-g(w) / 2) / np.sqrt(8 * np.pi ** 3 * np.linalg.det(sigma))\n",
    "\n",
    "int_monte_carlo = 0\n",
    "for _ in range(npoints):\n",
    "    w_sample = np.random.uniform(low, high, size=3)\n",
    "    int_monte_carlo += f(w_sample)\n",
    "\n",
    "int_monte_carlo *= (high - low) ** 3 / npoints\n",
    "int_monte_carlo"
   ]
  },
  {
   "cell_type": "code",
   "execution_count": 23,
   "metadata": {},
   "outputs": [
    {
     "name": "stdout",
     "output_type": "stream",
     "text": [
      "Relative error, 1 case = 0.002\n",
      "Relative error, 2 case = 0.431\n",
      "Absolute error, 1 case = 0.001\n",
      "Absolute error, 2 case = 0.216\n"
     ]
    }
   ],
   "source": [
    "### BEGIN Solution\n",
    "print('Relative error, 1 case = {:.3f}'.format(np.abs(int_monte_carlo - int_nd) / np.abs(int_monte_carlo)))\n",
    "print('Relative error, 2 case = {:.3f}'.format(np.abs(int_monte_carlo - int_diag) / np.abs(int_monte_carlo)))\n",
    "print('Absolute error, 1 case = {:.3f}'.format(np.abs(int_monte_carlo - int_nd)))\n",
    "print('Absolute error, 2 case = {:.3f}'.format(np.abs(int_monte_carlo - int_diag)))\n",
    "### END Solution"
   ]
  },
  {
   "cell_type": "markdown",
   "metadata": {},
   "source": [
    "**BEGIN Solution**\n",
    "\n",
    "We can see that finite differences method gives a better approximation of Hessian than diagonal approximation. It implies that here diagonal elements of Hessian are not way larger than non-diagonal, meaning that diagonal approximation method is dominated in terms of quality.\n",
    "\n",
    "**END Solution**"
   ]
  },
  {
   "cell_type": "markdown",
   "metadata": {},
   "source": [
    "<br>"
   ]
  },
  {
   "cell_type": "markdown",
   "metadata": {},
   "source": [
    "# Gaussian Processes"
   ]
  },
  {
   "cell_type": "markdown",
   "metadata": {},
   "source": [
    "## Task 3 (1 + 2 = 3 pt.)"
   ]
  },
  {
   "cell_type": "markdown",
   "metadata": {},
   "source": [
    "### Task 3.1 (1 pt.)\n",
    "\n",
    "Assuimng the matrices $A \\in \\mathbb{R}^{n \\times n}$ and $D \\in \\mathbb{R}^{d \\times d}$\n",
    "are invertible, using **gaussian elimination** find the inverse matrix for the following\n",
    "block matrix:\n",
    "\\begin{equation}\n",
    "    \\begin{pmatrix} A & B \\\\ C & D \\end{pmatrix} \\,,\n",
    "\\end{equation}\n",
    "where $C \\in \\mathbb{R}^{d \\times n}$ and $B \\in \\mathbb{R}^{n \\times d}$."
   ]
  },
  {
   "cell_type": "markdown",
   "metadata": {},
   "source": [
    "**BEGIN Solution**\n",
    "\n",
    "\\begin{eqnarray}\n",
    "\\left(\\begin{array}{rr|rr}\n",
    "A & B & I_n & 0 \\\\\n",
    "C & D & 0 & I_d\n",
    " \\end{array}\\right) \\sim\\\\\n",
    "&&\\sim\n",
    "\\left(\\begin{array}{rr|rr}\n",
    "I_n & A^{-1}B & A^{-1} & 0 \\\\\n",
    "C & D & 0 & I_d\n",
    " \\end{array}\\right) \\sim\\\\\n",
    "&&\\sim\n",
    "\\left(\\begin{array}{rr|rr}\n",
    "I_n & A^{-1}B & A^{-1} & 0 \\\\\n",
    "0 & D - CA^{-1}B & -CA^{-1} & I_d\n",
    " \\end{array}\\right) \\sim \\\\\n",
    "&& \\sim \\left(\\begin{array}{rr|rr}\n",
    "I_n & A^{-1}B & A^{-1} & 0 \\\\\n",
    "0 & I_d & \\left(CA^{-1}B - D\\right)^{-1}CA^{-1} & -\\left(CA^{-1}B - D\\right)^{-1}\n",
    " \\end{array}\\right) \\sim\\\\\n",
    "&&\\sim \\left(\\begin{array}{rr|rr}\n",
    "I_n & 0 & A^{-1} - A^{-1}B\\left(CA^{-1}B - D\\right)^{-1}CA^{-1} & A^{-1}B\\left(CA^{-1}B - D\\right)^{-1} \\\\\n",
    "0 & I_d & \\left(CA^{-1}B - D\\right)^{-1}CA^{-1} & -\\left(CA^{-1}B - D\\right)^{-1}\n",
    " \\end{array}\\right)\n",
    "\\end{eqnarray}\n",
    "\n",
    "Hence, we have:\n",
    "\n",
    "$$\n",
    "\\begin{pmatrix} A & B \\\\ C & D \\end{pmatrix} = \n",
    "\\begin{pmatrix} A^{-1} - A^{-1}B\\left(CA^{-1}B - D\\right)^{-1}CA^{-1} & A^{-1}B\\left(CA^{-1}B - D\\right)^{-1}\\\\\n",
    "\\left(CA^{-1}B - D\\right)^{-1}CA^{-1} & -\\left(CA^{-1}B - D\\right)^{-1}\n",
    "\\end{pmatrix}\n",
    "$$\n",
    "\n",
    "**END Solution**"
   ]
  },
  {
   "cell_type": "markdown",
   "metadata": {},
   "source": [
    "<br>"
   ]
  },
  {
   "cell_type": "markdown",
   "metadata": {},
   "source": [
    "### Task 3.2 (2 pt.)\n",
    "\n",
    "Assume that the function $y(x)$, $x \\in \\mathbb{R}^d$, is a realization of the Gaussian\n",
    "Process $GP\\bigl(0; K(\\cdot, \\cdot)\\bigr)$ with $K(a, b) = \\exp({- \\gamma \\|a - b\\|_2^2}))$.\n",
    "\n",
    "Suppose two datasets were observed: **noiseless** ${D_0}$ and **noisy** ${D_1}$\n",
    "\\begin{aligned}\n",
    "    & D_0 = \\bigl(x_i, y(x_i) \\bigr)_{i=1}^{n} \\,, \\\\\n",
    "    & D_1 = \\bigl(x^\\prime_i, y(x^\\prime_i) + \\varepsilon_i \\bigr)_{i=1}^{m} \\,,\n",
    "\\end{aligned}\n",
    "where $\\varepsilon_i \\sim \\text{ iid } \\mathcal{N}(0, \\sigma^2)$, independent of process $y$.\n",
    "\n",
    "Derive the conditional distribution of $y(x) \\big\\vert_{D_0, D_1}$ at a new $x$."
   ]
  },
  {
   "cell_type": "markdown",
   "metadata": {},
   "source": [
    "**BEGIN Solution**\n",
    "\n",
    "**END Solution**"
   ]
  },
  {
   "cell_type": "markdown",
   "metadata": {},
   "source": [
    "<br>"
   ]
  },
  {
   "cell_type": "markdown",
   "metadata": {},
   "source": [
    "## Task 4 (1 + 2 = 3 pt.)"
   ]
  },
  {
   "cell_type": "markdown",
   "metadata": {},
   "source": [
    "### Task 4.1 (1 pt.)"
   ]
  },
  {
   "cell_type": "markdown",
   "metadata": {},
   "source": [
    "> In the late 1950’s Charles Keeling invented an accurate way to measure atmospheric $CO_2$ concentration and began taking regular measurements at the Mauna Loa observatory.\n"
   ]
  },
  {
   "cell_type": "markdown",
   "metadata": {},
   "source": [
    "Take `monthly_co2_mlo.csv` file, load it and prepare the data."
   ]
  },
  {
   "cell_type": "markdown",
   "metadata": {},
   "source": [
    "0. Load the `CO2 [ppm]` time series\n",
    "1. Replace $-99.99$ with **NaN** and drop the missing observations\n",
    "2. Split the time series into train and test\n",
    "3. Normalize the target value by fitting a transformation on the train\n",
    "4. Plot the resulting target against the time index"
   ]
  },
  {
   "cell_type": "code",
   "execution_count": 24,
   "metadata": {
    "collapsed": true
   },
   "outputs": [],
   "source": [
    "import pandas as pd\n",
    "from sklearn.model_selection import train_test_split\n",
    "from sklearn.preprocessing import StandardScaler\n",
    "\n",
    "### BEGIN Solution\n",
    "data = pd.read_csv('data/monthly_co2_mlo.csv', na_values=-99.99)\n",
    "data.dropna(inplace=True)\n",
    "X = data.drop('CO2 [ppm]', axis=1)\n",
    "y = data['CO2 [ppm]']\n",
    "X_train, X_test, y_train, y_test = train_test_split(X, y, test_size=0.2, shuffle=False)\n",
    "sc = StandardScaler()\n",
    "y_train = sc.fit_transform(y_train.values.reshape(-1, 1)).ravel()\n",
    "y_test = sc.transform(y_test.values.reshape(-1, 1)).ravel()\n",
    "### END Solution"
   ]
  },
  {
   "cell_type": "code",
   "execution_count": 25,
   "metadata": {},
   "outputs": [
    {
     "data": {
      "image/png": "[encoded data removed]",
      "text/plain": [
       "<Figure size 432x288 with 1 Axes>"
      ]
     },
     "metadata": {},
     "output_type": "display_data"
    }
   ],
   "source": [
    "import seaborn as sns\n",
    "sns.set()\n",
    "\n",
    "X_train_range = X_train['year'] - X_train['year'].min()\n",
    "X_test_range = X_test['year'] - X_train['year'].min()\n",
    "\n",
    "plt.plot(X_train_range, y_train, label='train', alpha=0.5)\n",
    "plt.plot(X_test_range, y_test, label='test', alpha=0.5)\n",
    "plt.axvline(X_train['year'].iloc[-1] - X_train['year'].min(), c='black', linestyle='--')\n",
    "plt.xlabel('Time index')\n",
    "plt.ylabel('$CO_2$')\n",
    "plt.legend(loc='best')\n",
    "plt.show()"
   ]
  },
  {
   "cell_type": "markdown",
   "metadata": {},
   "source": [
    "<br>"
   ]
  },
  {
   "cell_type": "markdown",
   "metadata": {},
   "source": [
    "### Task 4.2 (2 pt.)\n",
    "\n",
    "Use [**GPy**](https://pypi.python.org/pypi/GPy) library for training and prediction. Fit a GP and run the predict on the test. Useful kernels to combine: `GPy.kern.RBF, GPy.kern.Poly, GPy.kern.StdPeriodic, GPy.kern.White, GPy.kern.Linear`. \n",
    "\n",
    "1. Plot mean and confidence interval of the prediction. \n",
    "2. Inspect them on normality by scatter plot: plot predicted points/time series against true values. \n",
    "3. Estimate the prediction error with `r2_score`. R2-score accepted > 0.83 on test sample."
   ]
  },
  {
   "cell_type": "code",
   "execution_count": 26,
   "metadata": {
    "collapsed": true
   },
   "outputs": [],
   "source": [
    "from GPy.models import GPRegression\n",
    "from GPy.kern import RBF, Poly, StdPeriodic, White, Linear\n",
    "from sklearn.metrics import r2_score"
   ]
  },
  {
   "cell_type": "code",
   "execution_count": 49,
   "metadata": {},
   "outputs": [
    {
     "name": "stderr",
     "output_type": "stream",
     "text": [
      " C:\\ProgramData\\Anaconda3\\lib\\site-packages\\matplotlib\\figure.py:2366: UserWarning:This figure includes Axes that are not compatible with tight_layout, so results might be incorrect.\n"
     ]
    },
    {
     "data": {
      "image/png": "[encoded data removed]",
      "text/plain": [
       "<Figure size 432x288 with 1 Axes>"
      ]
     },
     "metadata": {},
     "output_type": "display_data"
    }
   ],
   "source": [
    "### BEGIN Solution\n",
    "rbf = RBF(1)\n",
    "gpreg = GPRegression(X_train_range.values.reshape(-1, 1), y_train.reshape(-1, 1), rbf)\n",
    "gpreg.optimize()\n",
    "y_pred = gpreg.predict(X_test_range.values.reshape(-1, 1))[0].ravel()\n",
    "gpreg.plot()\n",
    "plt.show()\n",
    "### END Solution"
   ]
  },
  {
   "cell_type": "code",
   "execution_count": 50,
   "metadata": {},
   "outputs": [
    {
     "data": {
      "image/png": "[encoded data removed]",
      "text/plain": [
       "<Figure size 432x288 with 1 Axes>"
      ]
     },
     "metadata": {},
     "output_type": "display_data"
    }
   ],
   "source": [
    "plt.scatter(sc.inverse_transform(y_test), sc.inverse_transform(y_pred))\n",
    "plt.plot(np.arange(380, 411), np.arange(380, 411), label='x = y')\n",
    "plt.title('QQ - plot')\n",
    "plt.xlabel('True value')\n",
    "plt.ylabel('Predicted value')\n",
    "plt.legend(loc='best')\n",
    "plt.show()"
   ]
  },
  {
   "cell_type": "code",
   "execution_count": 51,
   "metadata": {},
   "outputs": [
    {
     "data": {
      "text/plain": [
       "0.9254219797111332"
      ]
     },
     "execution_count": 51,
     "metadata": {},
     "output_type": "execute_result"
    }
   ],
   "source": [
    "r2_score(y_test, y_pred)"
   ]
  }
 ],
 "metadata": {
  "kernelspec": {
   "display_name": "Python 3",
   "language": "python",
   "name": "python3"
  },
  "language_info": {
   "codemirror_mode": {
    "name": "ipython",
    "version": 3
   },
   "file_extension": ".py",
   "mimetype": "text/x-python",
   "name": "python",
   "nbconvert_exporter": "python",
   "pygments_lexer": "ipython3",
   "version": "3.6.3"
  }
 },
 "nbformat": 4,
 "nbformat_minor": 2
}
